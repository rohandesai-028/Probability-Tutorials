{
  "nbformat": 4,
  "nbformat_minor": 0,
  "metadata": {
    "colab": {
      "provenance": [],
      "collapsed_sections": []
    },
    "kernelspec": {
      "name": "python3",
      "display_name": "Python 3"
    },
    "language_info": {
      "name": "python"
    }
  },
  "cells": [
    {
      "cell_type": "markdown",
      "source": [
        "# Probability Tutorial 2 \n",
        "# Continuous Random Variables\n",
        "1. Normal Distribution\n",
        "2. Exponential Distribution\n",
        "3. Uniform Random Variable "
      ],
      "metadata": {
        "id": "bI1Q93NeOGq9"
      }
    },
    {
      "cell_type": "code",
      "source": [
        "#Libraries\n",
        "import numpy as np\n",
        "import matplotlib.pyplot as plt"
      ],
      "metadata": {
        "id": "s3cVKvTDoaD6"
      },
      "execution_count": null,
      "outputs": []
    },
    {
      "cell_type": "markdown",
      "source": [
        "# Uniform Random Variable \n",
        "Generation and PDF Plot \\\\\n",
        "We will generate samples from uniform random variable U~(a,b) with different values of a and b. \\\\\n",
        "Next we plot the pdf over large set of samples. \\\\\n",
        "\n",
        "1. X ~ U(0,1)"
      ],
      "metadata": {
        "id": "FApLhZftoD2v"
      }
    },
    {
      "cell_type": "code",
      "source": [
        "#We generate 10,000 samples from U~[0,1]\n",
        "UNIF_SAMPLES = np.random.uniform(low=0, high=1, size=1000000)\n",
        "#print(UNIF_SAMPLES[:10]) \n",
        "#plot the graph\n",
        "plt.figure(figsize=(8,8))\n",
        "plt.hist(UNIF_SAMPLES, bins=20, density=True)\n",
        "plt.grid()\n",
        "plt.xlabel('x',fontsize=20)\n",
        "plt.ylabel('$f_{X}(x)$',fontsize=20)\n",
        "plt.xlim((-0.1,1.25))\n",
        "plt.ylim((0,1.5))\n",
        "plt.title('PDF Of U~(0,1)', fontsize=30)"
      ],
      "metadata": {
        "colab": {
          "base_uri": "https://localhost:8080/",
          "height": 552
        },
        "id": "mR_vZsyNn5d1",
        "outputId": "3520f5d5-56f1-4fbe-8886-8578820a260b"
      },
      "execution_count": 86,
      "outputs": [
        {
          "output_type": "execute_result",
          "data": {
            "text/plain": [
              "Text(0.5, 1.0, 'PDF Of U~(0,1)')"
            ]
          },
          "metadata": {},
          "execution_count": 86
        },
        {
          "output_type": "display_data",
          "data": {
            "text/plain": [
              "<Figure size 576x576 with 1 Axes>"
            ],
            "image/png": "[encoded data removed]"
          },
          "metadata": {
            "needs_background": "light"
          }
        }
      ]
    },
    {
      "cell_type": "markdown",
      "source": [
        "Now if we change a and b, we get the density function rescaled to $\\frac{1}{b-a}$. \\\\\n",
        "\n",
        "2. X ~ U(0,10)"
      ],
      "metadata": {
        "id": "hHvfJotpppAJ"
      }
    },
    {
      "cell_type": "code",
      "source": [
        "#We generate 10,000 samples from U~[0,10]\n",
        "UNIF_SAMPLES = np.random.uniform(low=0, high=10, size=1000000)\n",
        "#print(UNIF_SAMPLES[:10]) \n",
        "#plot the graph\n",
        "plt.figure(figsize=(8,8))\n",
        "plt.hist(UNIF_SAMPLES, bins=20, density=True)\n",
        "plt.grid()\n",
        "plt.xlabel('x',fontsize=20)\n",
        "plt.ylabel('$f_{X}(x)$',fontsize=20)\n",
        "plt.xlim((-1,13))\n",
        "plt.ylim((0,0.2))\n",
        "plt.title('PDF Of U~(0,10)', fontsize=30)"
      ],
      "metadata": {
        "colab": {
          "base_uri": "https://localhost:8080/",
          "height": 552
        },
        "id": "fTXvgJ3rrhRU",
        "outputId": "1cb9ec87-ff2e-4f92-d087-64d93104499d"
      },
      "execution_count": 87,
      "outputs": [
        {
          "output_type": "execute_result",
          "data": {
            "text/plain": [
              "Text(0.5, 1.0, 'PDF Of U~(0,10)')"
            ]
          },
          "metadata": {},
          "execution_count": 87
        },
        {
          "output_type": "display_data",
          "data": {
            "text/plain": [
              "<Figure size 576x576 with 1 Axes>"
            ],
            "image/png": "[encoded data removed]"
          },
          "metadata": {
            "needs_background": "light"
          }
        }
      ]
    },
    {
      "cell_type": "markdown",
      "source": [
        "Mean and Variance of U~(0,10)\n",
        "\n",
        "a. $E[X] = \\frac{a+b}{2} = 5 $ \\\\\n",
        "b. $Var[X] = \\frac{(b-a)^2}{12} = \\frac{100}{12}$ \\\\\n",
        "\n",
        "Simulated Values from samples: \n",
        "\n",
        "a. $E[X] = \\frac{1}{N} \\sum_{i=1}^{N}X_{i}$ \\\\\n",
        "b. $Var[X] = \\frac{1}{N}\\sum_{i=1}^{N}(X_{i}-(E[X]))^2$"
      ],
      "metadata": {
        "id": "fHbKQHK7sFyb"
      }
    },
    {
      "cell_type": "code",
      "source": [
        "SIM_AVERAGE = np.mean(UNIF_SAMPLES)\n",
        "SIM_VARIANCE = np.var(UNIF_SAMPLES)"
      ],
      "metadata": {
        "id": "lBwKA7wntxnO"
      },
      "execution_count": 22,
      "outputs": []
    },
    {
      "cell_type": "code",
      "source": [
        "print('Average ={:.3f}'.format(SIM_AVERAGE),'\\t Variance = {:.3f}'.format(SIM_VARIANCE ))"
      ],
      "metadata": {
        "colab": {
          "base_uri": "https://localhost:8080/"
        },
        "id": "PjTL_VcfsBgh",
        "outputId": "4726cf05-d1af-427f-e284-244d01efe460"
      },
      "execution_count": 28,
      "outputs": [
        {
          "output_type": "stream",
          "name": "stdout",
          "text": [
            "Average =4.998 \t Variance = 8.331\n"
          ]
        }
      ]
    },
    {
      "cell_type": "markdown",
      "source": [
        "# Normal Random Variable \n",
        "$N \\sim (\\mu , \\sigma^2)$ \\\\\n",
        "Consider the case where mean is 0 and Variance is 1. \\\\\n",
        "\n",
        "We plot $N \\sim (0 , 1)$"
      ],
      "metadata": {
        "id": "pZbN8Bv6w3wD"
      }
    },
    {
      "cell_type": "code",
      "source": [
        "N_SAMPLES = np.random.normal(0,1,size=100000)\n",
        "\n",
        "plt.figure(figsize=(8,8))\n",
        "plt.hist(N_SAMPLES, bins=40, density=True)\n",
        "plt.grid()\n",
        "plt.xlabel('x',fontsize=20)\n",
        "plt.ylabel('$f_{X}(x)$',fontsize=20)\n",
        "plt.xlim((-5,5))\n",
        "plt.ylim((0,0.65))\n",
        "plt.title('PDF Of N~(0,1)', fontsize=30)"
      ],
      "metadata": {
        "colab": {
          "base_uri": "https://localhost:8080/",
          "height": 552
        },
        "id": "h_Q8kAb5w0VC",
        "outputId": "1e4bad9c-5499-41ee-d715-81499c276a70"
      },
      "execution_count": 88,
      "outputs": [
        {
          "output_type": "execute_result",
          "data": {
            "text/plain": [
              "Text(0.5, 1.0, 'PDF Of N~(0,1)')"
            ]
          },
          "metadata": {},
          "execution_count": 88
        },
        {
          "output_type": "display_data",
          "data": {
            "text/plain": [
              "<Figure size 576x576 with 1 Axes>"
            ],
            "image/png": "[encoded data removed]"
          },
          "metadata": {
            "needs_background": "light"
          }
        }
      ]
    },
    {
      "cell_type": "markdown",
      "source": [
        "Now we observe the case with mean 5 and different values of Variance. \\\\\n",
        "$N \\sim (5,2)$"
      ],
      "metadata": {
        "id": "Yr15A0UEy4Vb"
      }
    },
    {
      "cell_type": "code",
      "source": [
        "N_SAMPLES = np.random.normal(5,1,size=1000000)\n",
        "\n",
        "plt.figure(figsize=(8,8))\n",
        "plt.hist(N_SAMPLES, bins=40, density=True)\n",
        "plt.grid()\n",
        "plt.xlabel('x',fontsize=20)\n",
        "plt.ylabel('$f_{X}(x)$',fontsize=20)\n",
        "plt.xlim((-10,20))\n",
        "plt.ylim((0,0.45))\n",
        "plt.title('PDF Of N~(5,)', fontsize=30)"
      ],
      "metadata": {
        "colab": {
          "base_uri": "https://localhost:8080/",
          "height": 552
        },
        "id": "FjE-TJXZyKmg",
        "outputId": "b3751796-ce5e-442a-cdc1-be39756cf1ed"
      },
      "execution_count": 89,
      "outputs": [
        {
          "output_type": "execute_result",
          "data": {
            "text/plain": [
              "Text(0.5, 1.0, 'PDF Of N~(5,)')"
            ]
          },
          "metadata": {},
          "execution_count": 89
        },
        {
          "output_type": "display_data",
          "data": {
            "text/plain": [
              "<Figure size 576x576 with 1 Axes>"
            ],
            "image/png": "[encoded data removed]"
          },
          "metadata": {
            "needs_background": "light"
          }
        }
      ]
    },
    {
      "cell_type": "markdown",
      "source": [
        "# Exponential Random Variable \\\\\n",
        "$X \\sim Exp(\\lambda)$\n",
        "\n",
        "Let the rate parameter $\\lambda$ = 1 \n",
        "\n",
        "Note:\n",
        "np.random.exponential(mean=,size=) \\\\\n",
        "The input parameter to RV here is $1/λ$"
      ],
      "metadata": {
        "id": "kdzBfxvl5kKw"
      }
    },
    {
      "cell_type": "code",
      "source": [
        "E_SAMPLES = np.random.exponential(1,size=10000000)\n",
        "\n",
        "plt.figure(figsize=(8,8))\n",
        "plt.hist(E_SAMPLES, bins=80, density=True)\n",
        "plt.grid()\n",
        "plt.xlabel('x',fontsize=20)\n",
        "plt.ylabel('$f_{X}(x)$',fontsize=20)\n",
        "plt.xlim((-1,15))\n",
        "plt.ylim((0,1.1))\n",
        "plt.title('PDF Of Exp(1)', fontsize=30)"
      ],
      "metadata": {
        "colab": {
          "base_uri": "https://localhost:8080/",
          "height": 552
        },
        "id": "xtQp8_uP53q3",
        "outputId": "564c71f7-cd02-4cd0-835d-5eff12927b9c"
      },
      "execution_count": 90,
      "outputs": [
        {
          "output_type": "execute_result",
          "data": {
            "text/plain": [
              "Text(0.5, 1.0, 'PDF Of Exp(1)')"
            ]
          },
          "metadata": {},
          "execution_count": 90
        },
        {
          "output_type": "display_data",
          "data": {
            "text/plain": [
              "<Figure size 576x576 with 1 Axes>"
            ],
            "image/png": "[encoded data removed]"
          },
          "metadata": {
            "needs_background": "light"
          }
        }
      ]
    },
    {
      "cell_type": "markdown",
      "source": [
        "## Problem 1\n",
        "Suppose you enter a bank having two clerks. The service time of the clerks are exponentially distributed with rates $\\lambda_{1} = 2$ per hour and $\\lambda_{2} = 3$ per hour respectively. At the moment both the clerks are busy but there is no one else waiting in line. You will enter service when either one of the clerks becomes free. \\\\\n",
        "1. Find the probability that clerk 1 becomes free first. \n",
        "2. What is the mean waiting time before you are served. \n",
        "\n",
        "##Theoretical Solution:\n",
        "1. P(Clerk 1 becomes free first) = $\\frac{λ_{1}}{λ_{1}+λ_{2}} = \\frac{2}{5}$\n",
        "2. $E[Y] = E[min(X1,X2)] = \\frac{1}{λ_{1}+λ_{2}} = \\frac{1}{5}$ hours = 12 minutes."
      ],
      "metadata": {
        "id": "SKCIkJm7CLGT"
      }
    },
    {
      "cell_type": "code",
      "source": [
        "#Part 1\n",
        "#we generate a million samples of both exponential random variables.\n",
        "NO_OF_SAMPLES = 1000000\n",
        "c1 = np.random.exponential((1/2), size=NO_OF_SAMPLES)\n",
        "c2 = np.random.exponential((1/3), size=NO_OF_SAMPLES)\n",
        "\n",
        "x = np.less(c1, c2)\n",
        "print(\"First 5 samples of Clerk 1 service times = \", c1[:5])\n",
        "print(\"First 5 samples of Clerk 2 service times = \", c2[:5])\n",
        "print(\"First 5 samples of X = \", x[:5])\n",
        "print(\"\\nPr[Clerk 1 becomes free first] = {:.3f}\".format(np.sum(x)/NO_OF_SAMPLES))"
      ],
      "metadata": {
        "colab": {
          "base_uri": "https://localhost:8080/"
        },
        "id": "XfMTLxC0E0ob",
        "outputId": "0693a29e-3b8e-478b-a16c-7d5aab196d6e"
      },
      "execution_count": 79,
      "outputs": [
        {
          "output_type": "stream",
          "name": "stdout",
          "text": [
            "First 5 samples of Clerk 1 service times =  [0.06997358 0.42108861 0.16487131 0.25289825 0.06447958]\n",
            "First 5 samples of Clerk 2 service times =  [0.35113891 0.25313057 0.05062338 0.04033901 0.25361309]\n",
            "First 5 samples of X =  [ True False False False  True]\n",
            "\n",
            "Pr[Clerk 1 becomes free first] = 0.399\n"
          ]
        }
      ]
    },
    {
      "cell_type": "code",
      "source": [
        "#Part 2\n",
        "#We find the minimum of the 2 np arrays and average it over all samples\n",
        "\n",
        "y = np.minimum(c1,c2)\n",
        "print(\"Mean waiting Time = {:.3f} hours\".format(np.average(y)))"
      ],
      "metadata": {
        "colab": {
          "base_uri": "https://localhost:8080/"
        },
        "id": "9Ctyn0vVGLWi",
        "outputId": "725755d7-df67-49c4-eb90-ad7fdde204e0"
      },
      "execution_count": 81,
      "outputs": [
        {
          "output_type": "stream",
          "name": "stdout",
          "text": [
            "Mean waiting Time = 0.200 hours\n"
          ]
        }
      ]
    }
  ]
}