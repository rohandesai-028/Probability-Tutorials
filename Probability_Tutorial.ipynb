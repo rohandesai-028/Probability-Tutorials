{
  "nbformat": 4,
  "nbformat_minor": 0,
  "metadata": {
    "colab": {
      "name": "Probability Tutorial.ipynb",
      "provenance": [],
      "authorship_tag": "ABX9TyOlBns/Jul51Zql3K5mdkRs",
      "include_colab_link": true
    },
    "kernelspec": {
      "name": "python3",
      "display_name": "Python 3"
    },
    "language_info": {
      "name": "python"
    }
  },
  "cells": [
    {
      "cell_type": "markdown",
      "metadata": {
        "id": "view-in-github",
        "colab_type": "text"
      },
      "source": [
        "<a href=\"https://colab.research.google.com/github/rohandesai-028/Probability-Tutorials/blob/main/Probability_Tutorial.ipynb\" target=\"_parent\"><img src=\"https://colab.research.google.com/assets/colab-badge.svg\" alt=\"Open In Colab\"/></a>"
      ]
    },
    {
      "cell_type": "code",
      "source": [
        "#Libraries\n",
        "import math, random, itertools\n",
        "import matplotlib.pyplot as plt"
      ],
      "metadata": {
        "id": "qlIT6VPeBsKT"
      },
      "execution_count": 67,
      "outputs": []
    },
    {
      "cell_type": "code",
      "source": [
        "\n",
        "# Create a deck of cards\n",
        "deck = list(itertools.product(['A', '2', '3', '4', '5', '6', '7', '8', '9', '10', 'J', 'Q', 'K'],\n",
        "                              ['Spade','Heart','Diamond','Club']))\n",
        "\n",
        "print(deck[0:8])"
      ],
      "metadata": {
        "colab": {
          "base_uri": "https://localhost:8080/"
        },
        "id": "v4SNU2E2A8Bh",
        "outputId": "00d6652e-3517-42cb-cec8-d82295c4c35f"
      },
      "execution_count": 70,
      "outputs": [
        {
          "output_type": "stream",
          "name": "stdout",
          "text": [
            "[('A', 'Spade'), ('A', 'Heart'), ('A', 'Diamond'), ('A', 'Club'), ('2', 'Spade'), ('2', 'Heart'), ('2', 'Diamond'), ('2', 'Club')]\n"
          ]
        }
      ]
    },
    {
      "cell_type": "markdown",
      "source": [
        "# Problem: \n",
        "The deck of cards is shuffled and 4 cards are picked from the top of this shuffled deck. Find the probability of picking atleast 2 diamond cards out of the 4.\n",
        "\n",
        "The theoretical approach: \\\\\n",
        "We need to choose either 2,3 or 4 diamond cards out of the 12 in the deck at random. \\\\\n",
        "P(atleast 2 diamonds out of 5) = $\\frac{\\binom{12}{2}+\\binom{12}{3}+\\binom{12}{4}}{\\binom{52}{4}}$"
      ],
      "metadata": {
        "id": "PHrQbhWapeCk"
      }
    },
    {
      "cell_type": "code",
      "source": [
        "#method to choose k out of n samples, for all n >= k\n",
        "def comb(n,k):\n",
        "  return math.factorial(n)/(math.factorial(k)*math.factorial(n-k))"
      ],
      "metadata": {
        "id": "U-uFQ96BZjde"
      },
      "execution_count": 71,
      "outputs": []
    },
    {
      "cell_type": "code",
      "source": [
        "p_theoretical = (comb(12,2)+comb(12,3)+comb(12,4))/(comb(52,4))\n",
        "print(\"Theoretical Result =\",p_theoretical)"
      ],
      "metadata": {
        "colab": {
          "base_uri": "https://localhost:8080/"
        },
        "id": "GmGB1KvliWg8",
        "outputId": "4006d4ce-c7d0-41dd-e86e-bf635f3d79f4"
      },
      "execution_count": 72,
      "outputs": [
        {
          "output_type": "stream",
          "name": "stdout",
          "text": [
            "Theoretical Result = 0.002884846246190784\n"
          ]
        }
      ]
    },
    {
      "cell_type": "code",
      "source": [
        "N = [10,100,200,500,1000,2000,3000,4000,5000,6000,7000,8000,9000,10000,12000,14000,16000,18000,20000]\n",
        "atleast_2_dia = 0\n",
        "prob = []\n",
        "for k in range(0,len(N)):\n",
        "  print(\"simulating for N =\",N[k])\n",
        "  atleast_2_dia = 0\n",
        "  for hands in range(N[k]):\n",
        "      # shuffle the cards\n",
        "      random.shuffle(deck)\n",
        "      # Pick 4 cards from top of deck and check no of diamonds\n",
        "      dia = [d[1] for d in deck[0:4]].count('Diamond') \n",
        "      if dia >= 2: \n",
        "          atleast_2_dia += 1\n",
        "  prob.append(atleast_2_dia/N[k])\n",
        "\n",
        "N.insert(0,0)\n",
        "prob.insert(0,0)\n",
        "\n",
        "#Plot the result\n",
        "ax = plt.figure(figsize=(8,6))\n",
        "plt.plot(N,prob,linewidth=3)\n",
        "plt.xlabel('Number of Iterations',fontsize=18)\n",
        "plt.ylabel('Probability',fontsize=18)\n",
        "plt.grid()\n",
        "plt.show()\n"
      ],
      "metadata": {
        "colab": {
          "base_uri": "https://localhost:8080/",
          "height": 735
        },
        "id": "mam8bUPKBpTV",
        "outputId": "700db833-4d3f-49cf-e0c2-9b0c80f7c0b6"
      },
      "execution_count": 74,
      "outputs": [
        {
          "output_type": "stream",
          "name": "stdout",
          "text": [
            "simulating for N = 10\n",
            "simulating for N = 100\n",
            "simulating for N = 200\n",
            "simulating for N = 500\n",
            "simulating for N = 1000\n",
            "simulating for N = 2000\n",
            "simulating for N = 3000\n",
            "simulating for N = 4000\n",
            "simulating for N = 5000\n",
            "simulating for N = 6000\n",
            "simulating for N = 7000\n",
            "simulating for N = 8000\n",
            "simulating for N = 9000\n",
            "simulating for N = 10000\n",
            "simulating for N = 12000\n",
            "simulating for N = 14000\n",
            "simulating for N = 16000\n",
            "simulating for N = 18000\n",
            "simulating for N = 20000\n"
          ]
        },
        {
          "output_type": "display_data",
          "data": {
            "text/plain": [
              "<Figure size 576x432 with 1 Axes>"
            ],
            "image/png": "[encoded data removed]"
          },
          "metadata": {
            "needs_background": "light"
          }
        }
      ]
    }
  ]
}